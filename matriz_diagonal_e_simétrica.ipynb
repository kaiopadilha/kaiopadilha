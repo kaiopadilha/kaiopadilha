{
  "nbformat": 4,
  "nbformat_minor": 0,
  "metadata": {
    "colab": {
      "name": "matriz diagonal e simétrica",
      "provenance": [],
      "authorship_tag": "ABX9TyOxO+C1ToFNJ47AGJetJnEq",
      "include_colab_link": true
    },
    "kernelspec": {
      "name": "python3",
      "display_name": "Python 3"
    },
    "language_info": {
      "name": "python"
    }
  },
  "cells": [
    {
      "cell_type": "markdown",
      "metadata": {
        "id": "view-in-github",
        "colab_type": "text"
      },
      "source": [
        "<a href=\"https://colab.research.google.com/github/kaiopadilha/kaiopadilha/blob/main/matriz_diagonal_e_sim%C3%A9trica.ipynb\" target=\"_parent\"><img src=\"https://colab.research.google.com/assets/colab-badge.svg\" alt=\"Open In Colab\"/></a>"
      ]
    },
    {
      "cell_type": "code",
      "metadata": {
        "id": "lxw-fTW41XUr"
      },
      "source": [
        "n = int(input())\n",
        "M = list()\n",
        "for i in range(n):\n",
        "  linhas = input()\n",
        "  lista = linhas.split()\n",
        "  linha = list()\n",
        "  for i in lista:\n",
        "    linha.append(int(i))\n",
        "  M.append(linha)\n",
        "  print(M)\n",
        "\n",
        "simetrica = True\n",
        "i = 0\n",
        "while simetrica and i < n:\n",
        "    j = 0\n",
        "    while simetrica and j < i:\n",
        "        if M[i][j] != M[j][i]:\n",
        "            simetrica = False\n",
        "        j += 1\n",
        "    i += 1\n",
        "\n",
        "if simetrica:\n",
        "    print(\"Simétrica.\")\n",
        "else:\n",
        "    print(\"Não simétrica.\")"
      ],
      "execution_count": null,
      "outputs": []
    },
    {
      "cell_type": "code",
      "metadata": {
        "id": "2u-xC_BZ1YTq"
      },
      "source": [
        "n = int(input())\n",
        "M = list()\n",
        "for i in range(n):\n",
        "  linhas = input()\n",
        "  lista = linhas.split()\n",
        "  linha = list()\n",
        "  for i in lista:\n",
        "    linha.append(int(i))\n",
        "  M.append(linha)\n",
        "  print(M)\n",
        "\n",
        "soma = 0\n",
        "for i in range(n):\n",
        "  for j in range(n):\n",
        "    if i!= j:\n",
        "      soma+=abs(M[i][j])\n",
        "if abs(M[i][i])<soma:\n",
        "  print(\"Não é diagonalmente dominante\")\n",
        "else:\n",
        "  print(\"Diagonalmente dominante\")"
      ],
      "execution_count": null,
      "outputs": []
    }
  ]
}