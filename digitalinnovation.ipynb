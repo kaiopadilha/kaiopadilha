{
  "nbformat": 4,
  "nbformat_minor": 0,
  "metadata": {
    "colab": {
      "name": "digitalinnovation",
      "provenance": [],
      "mount_file_id": "1Vo4MjlnqX34DIFdD9VAHvGo3mARoFGCI",
      "authorship_tag": "ABX9TyNvIE5xiSVDErZoiqPJaE7+",
      "include_colab_link": true
    },
    "kernelspec": {
      "name": "python3",
      "display_name": "Python 3"
    },
    "language_info": {
      "name": "python"
    }
  },
  "cells": [
    {
      "cell_type": "markdown",
      "metadata": {
        "id": "view-in-github",
        "colab_type": "text"
      },
      "source": [
        "<a href=\"https://colab.research.google.com/github/kaiopadilha/kaiopadilha/blob/main/digitalinnovation.ipynb\" target=\"_parent\"><img src=\"https://colab.research.google.com/assets/colab-badge.svg\" alt=\"Open In Colab\"/></a>"
      ]
    },
    {
      "cell_type": "code",
      "metadata": {
        "id": "R8kf6ugjMOTs"
      },
      "source": [
        "import pandas as pd \n",
        "codigo = \"1foZsAIE3sSoFf53ENs9QCQ29ZqcMOxac\"\n",
        "file = \"https://drive.google.com/u/3/uc?id=\" + codigo + \"&export=download\"\n",
        "pacientes = pd.read_csv(file, sep = \";\",decimal=\",\")\n",
        "pacientes.head()"
      ],
      "execution_count": null,
      "outputs": []
    },
    {
      "cell_type": "code",
      "metadata": {
        "id": "7c_-e7p1sg5S"
      },
      "source": [
        "# amplitude\n",
        "pacientes.max() - pacientes.min()"
      ],
      "execution_count": null,
      "outputs": []
    },
    {
      "cell_type": "code",
      "metadata": {
        "id": "RfairWGbsoU2"
      },
      "source": [
        "# Média\n",
        "print(pacientes.mean())"
      ],
      "execution_count": null,
      "outputs": []
    },
    {
      "cell_type": "code",
      "metadata": {
        "id": "yhXdyWg7srt2"
      },
      "source": [
        "#variancia\n",
        "pacientes.var()"
      ],
      "execution_count": null,
      "outputs": []
    },
    {
      "cell_type": "code",
      "metadata": {
        "id": "7C1-cGt-ssZP"
      },
      "source": [
        "#desvio padrão\n",
        "pacientes.std()"
      ],
      "execution_count": null,
      "outputs": []
    },
    {
      "cell_type": "code",
      "metadata": {
        "id": "iWMwImO0sscD"
      },
      "source": [
        "# mediana\n",
        "pacientes.median()"
      ],
      "execution_count": null,
      "outputs": []
    },
    {
      "cell_type": "code",
      "metadata": {
        "id": "6tE3oA3ossfJ"
      },
      "source": [
        "# moda\n",
        "pacientes.mode()"
      ],
      "execution_count": null,
      "outputs": []
    },
    {
      "cell_type": "code",
      "metadata": {
        "id": "ToeAnRuCssiX"
      },
      "source": [
        "pacientes.Sistolica.plot(kind='bar')"
      ],
      "execution_count": null,
      "outputs": []
    },
    {
      "cell_type": "code",
      "metadata": {
        "id": "usQ1sf2ssslK"
      },
      "source": [
        "pacientes.Idade.plot(kind='bar')"
      ],
      "execution_count": null,
      "outputs": []
    },
    {
      "cell_type": "code",
      "metadata": {
        "id": "YyLWEfycssr5"
      },
      "source": [
        "pacientes.Altura.plot(kind='bar')"
      ],
      "execution_count": null,
      "outputs": []
    },
    {
      "cell_type": "code",
      "metadata": {
        "id": "Xkmzdg_-ssvR"
      },
      "source": [
        "pacientes.Peso.plot(kind='bar')"
      ],
      "execution_count": null,
      "outputs": []
    },
    {
      "cell_type": "code",
      "metadata": {
        "id": "gUqTaQvSssyU"
      },
      "source": [
        "pacientes.Pulsacao.plot(kind='bar')"
      ],
      "execution_count": null,
      "outputs": []
    },
    {
      "cell_type": "code",
      "metadata": {
        "id": "JVozWYkRuGaZ"
      },
      "source": [
        "pacientes.Colesterol.plot(kind='bar')"
      ],
      "execution_count": null,
      "outputs": []
    },
    {
      "cell_type": "code",
      "metadata": {
        "id": "TxEidaF4uGnO"
      },
      "source": [
        "pacientes.IMC.plot(kind='bar')"
      ],
      "execution_count": null,
      "outputs": []
    }
  ]
}