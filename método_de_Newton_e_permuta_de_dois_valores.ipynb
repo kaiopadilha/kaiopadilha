{
  "nbformat": 4,
  "nbformat_minor": 0,
  "metadata": {
    "colab": {
      "name": "método de Newton e permuta de dois valores",
      "provenance": [],
      "authorship_tag": "ABX9TyNxWTm3RMiX8rDikpNK7K1i",
      "include_colab_link": true
    },
    "kernelspec": {
      "name": "python3",
      "display_name": "Python 3"
    },
    "language_info": {
      "name": "python"
    }
  },
  "cells": [
    {
      "cell_type": "markdown",
      "metadata": {
        "id": "view-in-github",
        "colab_type": "text"
      },
      "source": [
        "<a href=\"https://colab.research.google.com/github/kaiopadilha/kaiopadilha/blob/main/m%C3%A9todo_de_Newton_e_permuta_de_dois_valores.ipynb\" target=\"_parent\"><img src=\"https://colab.research.google.com/assets/colab-badge.svg\" alt=\"Open In Colab\"/></a>"
      ]
    },
    {
      "cell_type": "code",
      "metadata": {
        "id": "uL_BI2vq0HEB"
      },
      "source": [
        "import math\n",
        "x=float(input())\n",
        "f= x**3 - (math.sin(x))**2-4\n",
        "df= 3*(x**2)-2*math.sin(x)*math.cos(x)\n",
        "while True:\n",
        "  f= x**3 - (math.sin(x))**2-4\n",
        "  df= 3*(x**2)-2*math.sin(x)*math.cos(x)\n",
        "  print( \"%.4f\" % x,\"%.4f\" % f)\n",
        "  x -= f / df\n",
        "  if abs(f) <10**-5:\n",
        "    break"
      ],
      "execution_count": null,
      "outputs": []
    },
    {
      "cell_type": "code",
      "metadata": {
        "id": "uyr6fB_r0VG5"
      },
      "source": [
        "a=int(input(\"Digite um numero inteiro  \"))\n",
        "b=int(input(\"Digite um numero inteiro  \"))\n",
        "if a>=b:\n",
        " while a >= b:\n",
        "   x = 2*a+b\n",
        "   print(x)\n",
        "   b = b+2\n",
        "else:\n",
        "  while b>=a:\n",
        "    y=2*b+a\n",
        "    a=a+2\n",
        "    print(y)"
      ],
      "execution_count": null,
      "outputs": []
    }
  ]
}