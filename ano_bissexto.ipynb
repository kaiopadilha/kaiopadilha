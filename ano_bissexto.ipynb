{
  "nbformat": 4,
  "nbformat_minor": 0,
  "metadata": {
    "colab": {
      "name": "ano bissexto",
      "provenance": [],
      "authorship_tag": "ABX9TyOsmTzTTxCEOGFR7FdKrZet",
      "include_colab_link": true
    },
    "kernelspec": {
      "name": "python3",
      "display_name": "Python 3"
    },
    "language_info": {
      "name": "python"
    }
  },
  "cells": [
    {
      "cell_type": "markdown",
      "metadata": {
        "id": "view-in-github",
        "colab_type": "text"
      },
      "source": [
        "<a href=\"https://colab.research.google.com/github/kaiopadilha/kaiopadilha/blob/main/ano_bissexto.ipynb\" target=\"_parent\"><img src=\"https://colab.research.google.com/assets/colab-badge.svg\" alt=\"Open In Colab\"/></a>"
      ]
    },
    {
      "cell_type": "code",
      "metadata": {
        "id": "8gZiDBHJy-T5"
      },
      "source": [
        "ano = int(input())\n",
        "if (ano%4==0 and ano%100!=0):\n",
        "  print(\"Bissexto pela condição 1\")\n",
        "elif (ano%400==0):\n",
        "  print(\"Bissexto pela condição 2\")\n",
        "else:\n",
        "  print(\"Não é bissexto\")"
      ],
      "execution_count": null,
      "outputs": []
    }
  ]
}