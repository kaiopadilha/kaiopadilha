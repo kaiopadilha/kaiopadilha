{
  "nbformat": 4,
  "nbformat_minor": 0,
  "metadata": {
    "colab": {
      "name": "Operadores aritméticos",
      "provenance": [],
      "authorship_tag": "ABX9TyOL3hoXL8OR0Yca0GnTOWEI",
      "include_colab_link": true
    },
    "kernelspec": {
      "name": "python3",
      "display_name": "Python 3"
    },
    "language_info": {
      "name": "python"
    }
  },
  "cells": [
    {
      "cell_type": "markdown",
      "metadata": {
        "id": "view-in-github",
        "colab_type": "text"
      },
      "source": [
        "<a href=\"https://colab.research.google.com/github/kaiopadilha/kaiopadilha/blob/main/Operadores_aritm%C3%A9ticos.ipynb\" target=\"_parent\"><img src=\"https://colab.research.google.com/assets/colab-badge.svg\" alt=\"Open In Colab\"/></a>"
      ]
    },
    {
      "cell_type": "code",
      "metadata": {
        "id": "Ae4LFGq7yPXh"
      },
      "source": [
        "import math\n",
        "x = int(input())\n",
        "if x>5:\n",
        "  y=(x**5)/(x+2)**3\n",
        "print(round(y-0.5))"
      ],
      "execution_count": null,
      "outputs": []
    },
    {
      "cell_type": "code",
      "metadata": {
        "id": "0dRfG2VOydw_"
      },
      "source": [
        "a = float(input())\n",
        "b = float(input())\n",
        "c = float(input())\n",
        "v=a*b*c\n",
        "d=((a**2)+(b**2)+(c**2))**0.5\n",
        "print(\"Volume:{:.2f} Diagonal:{:.2f} \".format(v,d))"
      ],
      "execution_count": null,
      "outputs": []
    },
    {
      "cell_type": "code",
      "metadata": {
        "id": "HQRu_eeNyd_D"
      },
      "source": [
        "a = int(input())\n",
        "b = int(input())\n",
        "x = float(input())\n",
        "y = float(input())\n",
        "v=a+(b**x)-(b**0.5)+((a+b)/(x-y))\n",
        "print(\"expressão:{:.2f}\".format(v))"
      ],
      "execution_count": null,
      "outputs": []
    },
    {
      "cell_type": "code",
      "metadata": {
        "id": "O6c5Ea5OyeE3"
      },
      "source": [
        "import math\n",
        "x = int(input())\n",
        "x1=x-(math.sin(x)-5*x+2)/(math.cos(x)-5)\n",
        "x2=(x1)-(math.sin(x1)-5*(x1)+2)/(math.cos(x1)-5)\n",
        "x3=(x2)-(math.sin(x2)-5*(x2)+2)/(math.cos(x2)-5)\n",
        "print(\"x1 = %.4f\" % x1)\n",
        "print(\"x2 = %.4f\" % x2)\n",
        "print(\"x3 = %.4f\" % x3)"
      ],
      "execution_count": null,
      "outputs": []
    },
    {
      "cell_type": "code",
      "metadata": {
        "id": "4Kst3t5RzMRD"
      },
      "source": [
        "import math\n",
        "x = int(input())\n",
        "if x>5:\n",
        "  y=(x**5)/(x+2)**3\n",
        "print(round(y-0.5))"
      ],
      "execution_count": null,
      "outputs": []
    },
    {
      "cell_type": "code",
      "metadata": {
        "id": "2jTkOGfozMdt"
      },
      "source": [
        "import math\n",
        "x = float(input())\n",
        "y = x**0.5\n",
        "if x < 0:\n",
        " print(\"raiz complexa\")\n",
        "else:\n",
        " print(\"%.2f\" % y)"
      ],
      "execution_count": null,
      "outputs": []
    }
  ]
}