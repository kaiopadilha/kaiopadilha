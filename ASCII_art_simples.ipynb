{
  "nbformat": 4,
  "nbformat_minor": 0,
  "metadata": {
    "colab": {
      "name": "ASCII-art simples",
      "provenance": [],
      "authorship_tag": "ABX9TyODsE1OIGcvz/NWtMFPI0bf",
      "include_colab_link": true
    },
    "kernelspec": {
      "name": "python3",
      "display_name": "Python 3"
    },
    "language_info": {
      "name": "python"
    }
  },
  "cells": [
    {
      "cell_type": "markdown",
      "metadata": {
        "id": "view-in-github",
        "colab_type": "text"
      },
      "source": [
        "<a href=\"https://colab.research.google.com/github/kaiopadilha/kaiopadilha/blob/main/ASCII_art_simples.ipynb\" target=\"_parent\"><img src=\"https://colab.research.google.com/assets/colab-badge.svg\" alt=\"Open In Colab\"/></a>"
      ]
    },
    {
      "cell_type": "code",
      "metadata": {
        "colab": {
          "base_uri": "https://localhost:8080/"
        },
        "id": "d_nFqxKMxsKq",
        "outputId": "bff49ec2-2304-4413-807c-aa05754285fb"
      },
      "source": [
        "a=\" ____\"\n",
        "b=\"|,--.|\"\n",
        "c=\"||__||\"\n",
        "d=\"|+  o|\"\n",
        "e=\"|,'o |\"\n",
        "f=\"'----'\"\n",
        "print(a)\n",
        "print(b)\n",
        "print(c)\n",
        "print(d)\n",
        "print(e)\n",
        "print(f)"
      ],
      "execution_count": 1,
      "outputs": [
        {
          "output_type": "stream",
          "text": [
            " ____\n",
            "|,--.|\n",
            "||__||\n",
            "|+  o|\n",
            "|,'o |\n",
            "'----'\n"
          ],
          "name": "stdout"
        }
      ]
    }
  ]
}