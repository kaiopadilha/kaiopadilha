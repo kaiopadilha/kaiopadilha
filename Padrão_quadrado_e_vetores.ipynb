{
  "nbformat": 4,
  "nbformat_minor": 0,
  "metadata": {
    "colab": {
      "name": "Padrão quadrado e vetores",
      "provenance": [],
      "authorship_tag": "ABX9TyMT6hxRmwx1ccvmoE79lkLr",
      "include_colab_link": true
    },
    "kernelspec": {
      "name": "python3",
      "display_name": "Python 3"
    },
    "language_info": {
      "name": "python"
    }
  },
  "cells": [
    {
      "cell_type": "markdown",
      "metadata": {
        "id": "view-in-github",
        "colab_type": "text"
      },
      "source": [
        "<a href=\"https://colab.research.google.com/github/kaiopadilha/kaiopadilha/blob/main/Padr%C3%A3o_quadrado_e_vetores.ipynb\" target=\"_parent\"><img src=\"https://colab.research.google.com/assets/colab-badge.svg\" alt=\"Open In Colab\"/></a>"
      ]
    },
    {
      "cell_type": "code",
      "metadata": {
        "id": "4-S0ptKj0qqF"
      },
      "source": [
        "n=int(input())\n",
        "print(\"1\"*n)\n",
        "for _ in range(1,n-1):\n",
        "  print(\"1\"+\"0\"*(n-2)+\"1\")\n",
        "print(\"1\"*n)"
      ],
      "execution_count": null,
      "outputs": []
    },
    {
      "cell_type": "code",
      "metadata": {
        "id": "66fT_kZ61G-a"
      },
      "source": [
        "import numpy as np\n",
        "x1 = [float(x) for x in input().split(\" \")]\n",
        "y1 = [float(x) for x in input().split(\" \")]\n",
        "x1 = np.array(x1)\n",
        "y1 = np.array(y1)\n",
        "\n",
        "if (len(x1))==(len(y1)):\n",
        "  soma = x1 + y1\n",
        "  produto = y1*len(x1)\n",
        "  print(\"Soma: (\", end = '')\n",
        "  print(\"%.2f\" %soma[0], end = '')\n",
        "  for i in range(1, len(soma)):\n",
        "    print(';%2f' %soma[i],end = '')\n",
        "  print( ')')\n",
        "\n",
        "  print(\"produto escalar: (\", end = '')\n",
        "  print(\"%.2f\" %produto[0], end = '')\n",
        "else:\n",
        "  print(\"Vetores com dimensões diferentes\")"
      ],
      "execution_count": null,
      "outputs": []
    }
  ]
}